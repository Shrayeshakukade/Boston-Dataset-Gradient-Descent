{
 "cells": [
  {
   "cell_type": "code",
   "execution_count": 1,
   "metadata": {},
   "outputs": [],
   "source": [
    "import numpy as np\n",
    "import pandas as pd"
   ]
  },
  {
   "cell_type": "code",
   "execution_count": 2,
   "metadata": {},
   "outputs": [
    {
     "data": {
      "text/plain": [
       "(379, 14)"
      ]
     },
     "execution_count": 2,
     "metadata": {},
     "output_type": "execute_result"
    }
   ],
   "source": [
    "train_data = np.loadtxt(\"0000000000002417_training_boston_x_y_train.csv\", delimiter = \",\")\n",
    "\n",
    "#train_data = pd.read_csv(\"0000000000002417_training_boston_x_y_train.csv\", delimiter = \",\")\n",
    "train_data.shape"
   ]
  },
  {
   "cell_type": "code",
   "execution_count": 3,
   "metadata": {},
   "outputs": [
    {
     "data": {
      "text/plain": [
       "(127, 13)"
      ]
     },
     "execution_count": 3,
     "metadata": {},
     "output_type": "execute_result"
    }
   ],
   "source": [
    "test_data = np.genfromtxt(\"0000000000002417_test_boston_x_test.csv\", delimiter = \",\")\n",
    "\n",
    "#test_data = pd.read_csv(\"0000000000002417_test_boston_x_test.csv\", delimiter = \",\")\n",
    "test_data.shape"
   ]
  },
  {
   "cell_type": "code",
   "execution_count": 4,
   "metadata": {},
   "outputs": [
    {
     "data": {
      "text/plain": [
       "array([[-0.40784991, -0.48772236, -1.2660231 , ...,  0.41057102,\n",
       "        -1.09799011, 37.9       ],\n",
       "       [-0.40737368, -0.48772236,  0.24705682, ...,  0.29116915,\n",
       "        -0.52047412, 21.4       ],\n",
       "       [ 0.1251786 , -0.48772236,  1.01599907, ..., -3.79579542,\n",
       "         0.89107588, 12.7       ],\n",
       "       ...,\n",
       "       [-0.40831101, -0.48772236,  0.24705682, ...,  0.33206621,\n",
       "        -0.33404299, 20.8       ],\n",
       "       [-0.41061997, -0.48772236, -1.15221381, ...,  0.203235  ,\n",
       "        -0.74475218, 22.6       ],\n",
       "       [ 0.34290895, -0.48772236,  1.01599907, ...,  0.38787479,\n",
       "        -1.35871335, 50.        ]])"
      ]
     },
     "execution_count": 4,
     "metadata": {},
     "output_type": "execute_result"
    }
   ],
   "source": [
    "train_data"
   ]
  },
  {
   "cell_type": "code",
   "execution_count": 5,
   "metadata": {},
   "outputs": [
    {
     "data": {
      "text/plain": [
       "array([[ 2.91816626, -0.48772236,  1.01599907, ...,  0.80657583,\n",
       "        -1.59755122,  1.04106182],\n",
       "       [-0.40339151, -0.48772236,  0.40609801, ..., -1.13534664,\n",
       "         0.44105193, -0.89473812],\n",
       "       [-0.4131781 , -0.48772236,  0.11573841, ...,  1.17646583,\n",
       "         0.44105193, -0.50084979],\n",
       "       ...,\n",
       "       [-0.41001449,  2.08745172, -1.37837329, ..., -0.0719129 ,\n",
       "         0.39094481, -0.68167397],\n",
       "       [-0.40317611, -0.48772236, -0.37597609, ...,  1.13022958,\n",
       "         0.34007019,  0.20142086],\n",
       "       [-0.13356344, -0.48772236,  1.2319449 , ..., -1.73641788,\n",
       "        -2.93893082,  0.48877712]])"
      ]
     },
     "execution_count": 5,
     "metadata": {},
     "output_type": "execute_result"
    }
   ],
   "source": [
    "test_data"
   ]
  },
  {
   "cell_type": "code",
   "execution_count": 6,
   "metadata": {},
   "outputs": [
    {
     "data": {
      "text/plain": [
       "array([-0.40784991, -0.48772236, -1.2660231 , -0.27259857, -0.57613394,\n",
       "        1.23997392,  0.84012202, -0.52026428, -0.75292215, -1.27835435,\n",
       "       -0.30309415,  0.41057102, -1.09799011])"
      ]
     },
     "execution_count": 6,
     "metadata": {},
     "output_type": "execute_result"
    }
   ],
   "source": [
    "X_train = train_data[:, :-1]\n",
    "X_train[0]"
   ]
  },
  {
   "cell_type": "code",
   "execution_count": 7,
   "metadata": {},
   "outputs": [
    {
     "data": {
      "text/plain": [
       "(379, 13)"
      ]
     },
     "execution_count": 7,
     "metadata": {},
     "output_type": "execute_result"
    }
   ],
   "source": [
    "X_train.shape"
   ]
  },
  {
   "cell_type": "code",
   "execution_count": 8,
   "metadata": {},
   "outputs": [
    {
     "data": {
      "text/plain": [
       "array([ 2.91816626, -0.48772236,  1.01599907, -0.27259857,  0.36544404,\n",
       "       -1.60934343,  1.11749449, -1.04849446,  1.66124525,  1.53092646,\n",
       "        0.80657583, -1.59755122,  1.04106182])"
      ]
     },
     "execution_count": 8,
     "metadata": {},
     "output_type": "execute_result"
    }
   ],
   "source": [
    "X_test = test_data[:, :]\n",
    "X_test[0]"
   ]
  },
  {
   "cell_type": "code",
   "execution_count": 22,
   "metadata": {},
   "outputs": [
    {
     "data": {
      "text/plain": [
       "(127, 13)"
      ]
     },
     "execution_count": 22,
     "metadata": {},
     "output_type": "execute_result"
    }
   ],
   "source": [
    "X_test.shape"
   ]
  },
  {
   "cell_type": "code",
   "execution_count": 23,
   "metadata": {},
   "outputs": [
    {
     "name": "stdout",
     "output_type": "stream",
     "text": [
      "(379, 13)\n",
      "(379,)\n"
     ]
    }
   ],
   "source": [
    "x = X_train\n",
    "#x = np.append(x,np.ones(len(x)).reshape(-1,1),axis=1)\n",
    "Y_train = X_train[:, -1]\n",
    "y = Y_train\n",
    "print(x.shape)\n",
    "print(y.shape)"
   ]
  },
  {
   "cell_type": "code",
   "execution_count": 17,
   "metadata": {},
   "outputs": [
    {
     "data": {
      "text/plain": [
       "'\\nfrom sklearn.datasets import load_boston\\nimport numpy as np\\ndata=load_boston()\\ndata\\n'"
      ]
     },
     "execution_count": 17,
     "metadata": {},
     "output_type": "execute_result"
    }
   ],
   "source": [
    "'''\n",
    "from sklearn.datasets import load_boston\n",
    "import numpy as np\n",
    "data=load_boston()\n",
    "data\n",
    "'''"
   ]
  },
  {
   "cell_type": "code",
   "execution_count": 11,
   "metadata": {},
   "outputs": [],
   "source": [
    "def step_gradient(X, Y, learning_rate, m):\n",
    "    m_slope = np.zeros(len(X[0]))\n",
    "    M = len(X)\n",
    "    for i in range(M):\n",
    "        x = X[i]\n",
    "        y = Y[i]\n",
    "        for j in range(len(x)):\n",
    "            m_slope[j] += -(2 / M) * (y - sum(m * x)) * x[j]\n",
    "    new_m = m - learning_rate * m_slope\n",
    "    return new_m"
   ]
  },
  {
   "cell_type": "code",
   "execution_count": 12,
   "metadata": {},
   "outputs": [],
   "source": [
    "def gd(X, Y, learning_rate, n_iterations):\n",
    "    m = np.zeros(len(X[0]))\n",
    "    for i in range(n_iterations):\n",
    "        m = step_gradient(X, Y, learning_rate, m)\n",
    "        print(i, \"Cost : \", cost(X, Y, m))\n",
    "    return m"
   ]
  },
  {
   "cell_type": "code",
   "execution_count": 13,
   "metadata": {},
   "outputs": [],
   "source": [
    "def cost(X, Y, m):\n",
    "    tot_cost = 0\n",
    "    M = len(X)\n",
    "    for i in range(M):\n",
    "        tot_cost += (1 / M) * ((Y[i] - (m * x[i]).sum()) ** 2)\n",
    "    return tot_cost"
   ]
  },
  {
   "cell_type": "code",
   "execution_count": 14,
   "metadata": {},
   "outputs": [],
   "source": [
    "def gredient_descent(x, y):\n",
    "    data = np.loadtxt(\"data.csv\", delimiter = \",\")\n",
    "    learning_rate = 0.005\n",
    "    n_iterations = 10\n",
    "    #x = np.append(x, np.ones(len(x)).reshape(-1, 1), axis = 1)\n",
    "    m = gd(x, y, learning_rate, n_iterations)\n",
    "    print(i,\"Cost :\",cost(m,x,y))\n",
    "    return m"
   ]
  },
  {
   "cell_type": "code",
   "execution_count": 32,
   "metadata": {},
   "outputs": [],
   "source": [
    "def run(x, y):\n",
    "    #x = X_train\n",
    "    x = np.append(x, np.ones(len(x)).reshape(-1,1),axis=1)\n",
    "    #y = X_train[:, -1:]\n",
    "    m = gredient_descent(x, y)\n",
    "    print(m)"
   ]
  },
  {
   "cell_type": "code",
   "execution_count": 17,
   "metadata": {},
   "outputs": [],
   "source": [
    "#run()"
   ]
  },
  {
   "cell_type": "code",
   "execution_count": 33,
   "metadata": {},
   "outputs": [
    {
     "data": {
      "text/plain": [
       "array([-0.40784991, -0.48772236, -1.2660231 , -0.27259857, -0.57613394,\n",
       "        1.23997392,  0.84012202, -0.52026428, -0.75292215, -1.27835435,\n",
       "       -0.30309415,  0.41057102, -1.09799011])"
      ]
     },
     "execution_count": 33,
     "metadata": {},
     "output_type": "execute_result"
    }
   ],
   "source": [
    "# feature scaling\n",
    "# taking squre of each feature\n",
    "#'''\n",
    "x = train_data[:, :-1]\n",
    "x[0]\n",
    "#'''"
   ]
  },
  {
   "cell_type": "code",
   "execution_count": 34,
   "metadata": {},
   "outputs": [
    {
     "data": {
      "text/plain": [
       "37.9"
      ]
     },
     "execution_count": 34,
     "metadata": {},
     "output_type": "execute_result"
    }
   ],
   "source": [
    "#'''\n",
    "y = train_data[:, -1]\n",
    "y[0]\n",
    "#'''"
   ]
  },
  {
   "cell_type": "code",
   "execution_count": 35,
   "metadata": {},
   "outputs": [
    {
     "data": {
      "text/plain": [
       "array([-0.40784991, -0.48772236, -1.2660231 , -0.27259857, -0.57613394,\n",
       "        1.23997392,  0.84012202, -0.52026428, -0.75292215, -1.27835435,\n",
       "       -0.30309415,  0.41057102, -1.09799011,  0.16634155,  0.2378731 ,\n",
       "        1.60281449,  0.07430998,  0.33193032,  1.53753532,  0.70580501,\n",
       "        0.27067492,  0.56689176,  1.63418984,  0.09186606,  0.16856856,\n",
       "        1.20558228])"
      ]
     },
     "execution_count": 35,
     "metadata": {},
     "output_type": "execute_result"
    }
   ],
   "source": [
    "# appending sq to respective column\n",
    "#'''\n",
    "sq = []\n",
    "for i in x:\n",
    "    sq.append(i**2)\n",
    "    #print(sq)\n",
    "sq = np.array(sq)\n",
    "x = np.append(x, sq, axis = 1) #means column\n",
    "x[0]\n",
    "#'''"
   ]
  },
  {
   "cell_type": "code",
   "execution_count": 36,
   "metadata": {},
   "outputs": [
    {
     "data": {
      "text/plain": [
       "(379, 26)"
      ]
     },
     "execution_count": 36,
     "metadata": {},
     "output_type": "execute_result"
    }
   ],
   "source": [
    "x.shape"
   ]
  },
  {
   "cell_type": "code",
   "execution_count": 19,
   "metadata": {},
   "outputs": [
    {
     "name": "stdout",
     "output_type": "stream",
     "text": [
      "(379, 468)\n",
      "[[-0.40784991 -0.48772236 -1.2660231  ... -0.18508661  0.49497715\n",
      "  -1.32371742]\n",
      " [-0.40737368 -0.48772236  0.24705682 ... -0.04412552  0.07887577\n",
      "  -0.14099296]\n",
      " [ 0.1251786  -0.48772236  1.01599907 ... 12.8386773  -3.01392315\n",
      "   0.70752871]\n",
      " ...\n",
      " [-0.40831101 -0.48772236  0.24705682 ... -0.03683424  0.03705351\n",
      "  -0.03727409]\n",
      " [-0.41061997 -0.48772236 -1.15221381 ... -0.03076159  0.11272547\n",
      "  -0.41308112]\n",
      " [ 0.34290895 -0.48772236  1.01599907 ... -0.20441415  0.71605641\n",
      "  -2.50832339]]\n"
     ]
    }
   ],
   "source": [
    "# just try\n",
    "'''\n",
    "features = []\n",
    "for i in range(len(x[0])):\n",
    "    for j in range(i,len(x[0])):\n",
    "        for k in range(j,len(x[0])):\n",
    "            features.append(x[:,i]*x[:,j]*x[:,k])\n",
    "features = np.array(features)\n",
    "for i in features:\n",
    "    x=np.append(x,i.reshape(-1,1),axis=1)\n",
    "print(x.shape)\n",
    "print(x)\n",
    "#'''"
   ]
  },
  {
   "cell_type": "code",
   "execution_count": 37,
   "metadata": {},
   "outputs": [
    {
     "name": "stdout",
     "output_type": "stream",
     "text": [
      "(379, 26)\n",
      "[[-0.40098068 -0.49042688 -1.28149216 ... -0.68816762 -0.28011888\n",
      "   0.11743628]\n",
      " [-0.40053396 -0.49042688  0.20753471 ... -0.74821148 -0.30738521\n",
      "  -0.50280925]\n",
      " [ 0.09900799 -0.49042688  0.96425328 ... -0.26401169  4.35364339\n",
      "  -0.15567276]\n",
      " ...\n",
      " [-0.40141319 -0.49042688  0.20753471 ... -0.74821148 -0.29909084\n",
      "  -0.60852403]\n",
      " [-0.40357903 -0.49042688 -1.16949207 ... -0.36520097 -0.32153268\n",
      "  -0.31450873]\n",
      " [ 0.30324229 -0.49042688  0.96425328 ... -0.26401169 -0.28601598\n",
      "   0.54247549]]\n"
     ]
    }
   ],
   "source": [
    "from sklearn import preprocessing\n",
    "\n",
    "#x = np.append(x,np.ones(len(x)).reshape(-1,1),axis=1)\n",
    "\n",
    "scaler = preprocessing.StandardScaler()\n",
    "scaler.fit(x)\n",
    "x = scaler.transform(x)\n",
    "#m = gredient_descent(x, y)\n",
    "print(x.shape)\n",
    "print(x)"
   ]
  },
  {
   "cell_type": "code",
   "execution_count": 38,
   "metadata": {},
   "outputs": [
    {
     "ename": "ValueError",
     "evalue": "operands could not be broadcast together with shapes (27,) (26,) ",
     "output_type": "error",
     "traceback": [
      "\u001b[1;31m---------------------------------------------------------------------------\u001b[0m",
      "\u001b[1;31mValueError\u001b[0m                                Traceback (most recent call last)",
      "\u001b[1;32m<ipython-input-38-8edc0667e9a1>\u001b[0m in \u001b[0;36m<module>\u001b[1;34m\u001b[0m\n\u001b[1;32m----> 1\u001b[1;33m \u001b[0mm_new\u001b[0m \u001b[1;33m=\u001b[0m \u001b[0mrun\u001b[0m\u001b[1;33m(\u001b[0m\u001b[0mx\u001b[0m\u001b[1;33m,\u001b[0m \u001b[0my\u001b[0m\u001b[1;33m)\u001b[0m\u001b[1;33m\u001b[0m\u001b[1;33m\u001b[0m\u001b[0m\n\u001b[0m",
      "\u001b[1;32m<ipython-input-32-87b4eaecf7b9>\u001b[0m in \u001b[0;36mrun\u001b[1;34m(x, y)\u001b[0m\n\u001b[0;32m      3\u001b[0m     \u001b[0mx\u001b[0m \u001b[1;33m=\u001b[0m \u001b[0mnp\u001b[0m\u001b[1;33m.\u001b[0m\u001b[0mappend\u001b[0m\u001b[1;33m(\u001b[0m\u001b[0mx\u001b[0m\u001b[1;33m,\u001b[0m \u001b[0mnp\u001b[0m\u001b[1;33m.\u001b[0m\u001b[0mones\u001b[0m\u001b[1;33m(\u001b[0m\u001b[0mlen\u001b[0m\u001b[1;33m(\u001b[0m\u001b[0mx\u001b[0m\u001b[1;33m)\u001b[0m\u001b[1;33m)\u001b[0m\u001b[1;33m.\u001b[0m\u001b[0mreshape\u001b[0m\u001b[1;33m(\u001b[0m\u001b[1;33m-\u001b[0m\u001b[1;36m1\u001b[0m\u001b[1;33m,\u001b[0m\u001b[1;36m1\u001b[0m\u001b[1;33m)\u001b[0m\u001b[1;33m,\u001b[0m\u001b[0maxis\u001b[0m\u001b[1;33m=\u001b[0m\u001b[1;36m1\u001b[0m\u001b[1;33m)\u001b[0m\u001b[1;33m\u001b[0m\u001b[1;33m\u001b[0m\u001b[0m\n\u001b[0;32m      4\u001b[0m     \u001b[1;31m#y = X_train[:, -1:]\u001b[0m\u001b[1;33m\u001b[0m\u001b[1;33m\u001b[0m\u001b[1;33m\u001b[0m\u001b[0m\n\u001b[1;32m----> 5\u001b[1;33m     \u001b[0mm\u001b[0m \u001b[1;33m=\u001b[0m \u001b[0mgredient_descent\u001b[0m\u001b[1;33m(\u001b[0m\u001b[0mx\u001b[0m\u001b[1;33m,\u001b[0m \u001b[0my\u001b[0m\u001b[1;33m)\u001b[0m\u001b[1;33m\u001b[0m\u001b[1;33m\u001b[0m\u001b[0m\n\u001b[0m\u001b[0;32m      6\u001b[0m     \u001b[0mprint\u001b[0m\u001b[1;33m(\u001b[0m\u001b[0mm\u001b[0m\u001b[1;33m)\u001b[0m\u001b[1;33m\u001b[0m\u001b[1;33m\u001b[0m\u001b[0m\n",
      "\u001b[1;32m<ipython-input-14-5b298c032118>\u001b[0m in \u001b[0;36mgredient_descent\u001b[1;34m(x, y)\u001b[0m\n\u001b[0;32m      4\u001b[0m     \u001b[0mn_iterations\u001b[0m \u001b[1;33m=\u001b[0m \u001b[1;36m10\u001b[0m\u001b[1;33m\u001b[0m\u001b[1;33m\u001b[0m\u001b[0m\n\u001b[0;32m      5\u001b[0m     \u001b[1;31m#x = np.append(x, np.ones(len(x)).reshape(-1, 1), axis = 1)\u001b[0m\u001b[1;33m\u001b[0m\u001b[1;33m\u001b[0m\u001b[1;33m\u001b[0m\u001b[0m\n\u001b[1;32m----> 6\u001b[1;33m     \u001b[0mm\u001b[0m \u001b[1;33m=\u001b[0m \u001b[0mgd\u001b[0m\u001b[1;33m(\u001b[0m\u001b[0mx\u001b[0m\u001b[1;33m,\u001b[0m \u001b[0my\u001b[0m\u001b[1;33m,\u001b[0m \u001b[0mlearning_rate\u001b[0m\u001b[1;33m,\u001b[0m \u001b[0mn_iterations\u001b[0m\u001b[1;33m)\u001b[0m\u001b[1;33m\u001b[0m\u001b[1;33m\u001b[0m\u001b[0m\n\u001b[0m\u001b[0;32m      7\u001b[0m     \u001b[0mprint\u001b[0m\u001b[1;33m(\u001b[0m\u001b[0mi\u001b[0m\u001b[1;33m,\u001b[0m\u001b[1;34m\"Cost :\"\u001b[0m\u001b[1;33m,\u001b[0m\u001b[0mcost\u001b[0m\u001b[1;33m(\u001b[0m\u001b[0mm\u001b[0m\u001b[1;33m,\u001b[0m\u001b[0mx\u001b[0m\u001b[1;33m,\u001b[0m\u001b[0my\u001b[0m\u001b[1;33m)\u001b[0m\u001b[1;33m)\u001b[0m\u001b[1;33m\u001b[0m\u001b[1;33m\u001b[0m\u001b[0m\n\u001b[0;32m      8\u001b[0m     \u001b[1;32mreturn\u001b[0m \u001b[0mm\u001b[0m\u001b[1;33m\u001b[0m\u001b[1;33m\u001b[0m\u001b[0m\n",
      "\u001b[1;32m<ipython-input-12-87ef78ac779a>\u001b[0m in \u001b[0;36mgd\u001b[1;34m(X, Y, learning_rate, n_iterations)\u001b[0m\n\u001b[0;32m      3\u001b[0m     \u001b[1;32mfor\u001b[0m \u001b[0mi\u001b[0m \u001b[1;32min\u001b[0m \u001b[0mrange\u001b[0m\u001b[1;33m(\u001b[0m\u001b[0mn_iterations\u001b[0m\u001b[1;33m)\u001b[0m\u001b[1;33m:\u001b[0m\u001b[1;33m\u001b[0m\u001b[1;33m\u001b[0m\u001b[0m\n\u001b[0;32m      4\u001b[0m         \u001b[0mm\u001b[0m \u001b[1;33m=\u001b[0m \u001b[0mstep_gradient\u001b[0m\u001b[1;33m(\u001b[0m\u001b[0mX\u001b[0m\u001b[1;33m,\u001b[0m \u001b[0mY\u001b[0m\u001b[1;33m,\u001b[0m \u001b[0mlearning_rate\u001b[0m\u001b[1;33m,\u001b[0m \u001b[0mm\u001b[0m\u001b[1;33m)\u001b[0m\u001b[1;33m\u001b[0m\u001b[1;33m\u001b[0m\u001b[0m\n\u001b[1;32m----> 5\u001b[1;33m         \u001b[0mprint\u001b[0m\u001b[1;33m(\u001b[0m\u001b[0mi\u001b[0m\u001b[1;33m,\u001b[0m \u001b[1;34m\"Cost : \"\u001b[0m\u001b[1;33m,\u001b[0m \u001b[0mcost\u001b[0m\u001b[1;33m(\u001b[0m\u001b[0mX\u001b[0m\u001b[1;33m,\u001b[0m \u001b[0mY\u001b[0m\u001b[1;33m,\u001b[0m \u001b[0mm\u001b[0m\u001b[1;33m)\u001b[0m\u001b[1;33m)\u001b[0m\u001b[1;33m\u001b[0m\u001b[1;33m\u001b[0m\u001b[0m\n\u001b[0m\u001b[0;32m      6\u001b[0m     \u001b[1;32mreturn\u001b[0m \u001b[0mm\u001b[0m\u001b[1;33m\u001b[0m\u001b[1;33m\u001b[0m\u001b[0m\n",
      "\u001b[1;32m<ipython-input-13-a5b35e275804>\u001b[0m in \u001b[0;36mcost\u001b[1;34m(X, Y, m)\u001b[0m\n\u001b[0;32m      3\u001b[0m     \u001b[0mM\u001b[0m \u001b[1;33m=\u001b[0m \u001b[0mlen\u001b[0m\u001b[1;33m(\u001b[0m\u001b[0mX\u001b[0m\u001b[1;33m)\u001b[0m\u001b[1;33m\u001b[0m\u001b[1;33m\u001b[0m\u001b[0m\n\u001b[0;32m      4\u001b[0m     \u001b[1;32mfor\u001b[0m \u001b[0mi\u001b[0m \u001b[1;32min\u001b[0m \u001b[0mrange\u001b[0m\u001b[1;33m(\u001b[0m\u001b[0mM\u001b[0m\u001b[1;33m)\u001b[0m\u001b[1;33m:\u001b[0m\u001b[1;33m\u001b[0m\u001b[1;33m\u001b[0m\u001b[0m\n\u001b[1;32m----> 5\u001b[1;33m         \u001b[0mtot_cost\u001b[0m \u001b[1;33m+=\u001b[0m \u001b[1;33m(\u001b[0m\u001b[1;36m1\u001b[0m \u001b[1;33m/\u001b[0m \u001b[0mM\u001b[0m\u001b[1;33m)\u001b[0m \u001b[1;33m*\u001b[0m \u001b[1;33m(\u001b[0m\u001b[1;33m(\u001b[0m\u001b[0mY\u001b[0m\u001b[1;33m[\u001b[0m\u001b[0mi\u001b[0m\u001b[1;33m]\u001b[0m \u001b[1;33m-\u001b[0m \u001b[1;33m(\u001b[0m\u001b[0mm\u001b[0m \u001b[1;33m*\u001b[0m \u001b[0mx\u001b[0m\u001b[1;33m[\u001b[0m\u001b[0mi\u001b[0m\u001b[1;33m]\u001b[0m\u001b[1;33m)\u001b[0m\u001b[1;33m.\u001b[0m\u001b[0msum\u001b[0m\u001b[1;33m(\u001b[0m\u001b[1;33m)\u001b[0m\u001b[1;33m)\u001b[0m \u001b[1;33m**\u001b[0m \u001b[1;36m2\u001b[0m\u001b[1;33m)\u001b[0m\u001b[1;33m\u001b[0m\u001b[1;33m\u001b[0m\u001b[0m\n\u001b[0m\u001b[0;32m      6\u001b[0m     \u001b[1;32mreturn\u001b[0m \u001b[0mtot_cost\u001b[0m\u001b[1;33m\u001b[0m\u001b[1;33m\u001b[0m\u001b[0m\n",
      "\u001b[1;31mValueError\u001b[0m: operands could not be broadcast together with shapes (27,) (26,) "
     ]
    }
   ],
   "source": [
    "m_new = run(x, y)"
   ]
  },
  {
   "cell_type": "code",
   "execution_count": 46,
   "metadata": {},
   "outputs": [
    {
     "data": {
      "text/plain": [
       "'\\nsq = []\\nfor i in X_test:\\n    sq.append(i**2)\\nsq = np.array(sq)\\nX_test = np.append(X_test, sq, axis = 1)\\nX_test[0]\\n'"
      ]
     },
     "execution_count": 46,
     "metadata": {},
     "output_type": "execute_result"
    }
   ],
   "source": [
    "'''\n",
    "sq = []\n",
    "for i in X_test:\n",
    "    sq.append(i**2)\n",
    "sq = np.array(sq)\n",
    "X_test = np.append(X_test, sq, axis = 1)\n",
    "X_test[0]\n",
    "'''"
   ]
  },
  {
   "cell_type": "code",
   "execution_count": 108,
   "metadata": {},
   "outputs": [
    {
     "data": {
      "text/plain": [
       "array([ 2.71887193, -0.49042688,  0.96425328, -0.28784917,  0.33723016,\n",
       "       -1.64178699,  1.09674705, -1.02022479,  1.5941481 ,  1.45994481,\n",
       "        0.78816582, -1.55922624,  1.00848766,  0.29294666, -0.28997482,\n",
       "        0.28510189, -0.28784917, -0.18671511, -0.7519154 ,  0.80899157,\n",
       "       -0.43038219,  1.60899318,  1.45364388,  0.38674732, -0.09779468,\n",
       "        0.05623524])"
      ]
     },
     "execution_count": 108,
     "metadata": {},
     "output_type": "execute_result"
    }
   ],
   "source": [
    "#scaler.fit(X_test)\n",
    "X_test = scaler.transform(X_test)\n",
    "X_test[0]"
   ]
  },
  {
   "cell_type": "code",
   "execution_count": 109,
   "metadata": {},
   "outputs": [
    {
     "data": {
      "text/plain": [
       "array([ 2.71887193, -0.49042688,  0.96425328, -0.28784917,  0.33723016,\n",
       "       -1.64178699,  1.09674705, -1.02022479,  1.5941481 ,  1.45994481,\n",
       "        0.78816582, -1.55922624,  1.00848766,  0.29294666, -0.28997482,\n",
       "        0.28510189, -0.28784917, -0.18671511, -0.7519154 ,  0.80899157,\n",
       "       -0.43038219,  1.60899318,  1.45364388,  0.38674732, -0.09779468,\n",
       "        0.05623524])"
      ]
     },
     "execution_count": 109,
     "metadata": {},
     "output_type": "execute_result"
    }
   ],
   "source": [
    "#X_test = np.append(X_test, np.ones(len(X_test)).reshape(-1, 1), axis = 1)\n",
    "X_test[0]"
   ]
  },
  {
   "cell_type": "code",
   "execution_count": 110,
   "metadata": {},
   "outputs": [
    {
     "name": "stdout",
     "output_type": "stream",
     "text": [
      "-3.2835897243274488\n",
      "1.6275747295936065\n",
      "0.16107086881607802\n",
      "1.7330456160625594\n",
      "0.07180650747478616\n",
      "-3.77031497122982\n",
      "1.4884378963275944\n",
      "1.061658804401419\n",
      "-0.030073561561476517\n",
      "0.730128192419933\n",
      "1.141229386266732\n",
      "-0.13127988963574283\n",
      "0.9737505086219141\n",
      "0.4693510770254895\n",
      "2.8633331227903915\n",
      "1.706659334516561\n",
      "1.533767358428005\n",
      "1.1378275466880474\n",
      "1.3251899334656412\n",
      "1.4908468370423982\n",
      "0.2307623576280213\n",
      "0.0016710121808888104\n",
      "0.8439410937997629\n",
      "2.590702659062502\n",
      "3.505967832022413\n",
      "-2.3376173708959316\n",
      "0.3418822330175094\n",
      "2.2598444103321835\n",
      "0.6090267619083578\n",
      "1.4792583850351084\n",
      "-0.10856480920872445\n",
      "1.3939800316030746\n",
      "0.3625715545908725\n",
      "1.0591386912801228\n",
      "-2.649660785751849\n",
      "0.9807631502493173\n",
      "1.5086273135258168\n",
      "-0.14384092834658296\n",
      "1.3440996753566798\n",
      "-4.105536727771081\n",
      "-4.318556921543816\n",
      "1.8686017769573011\n",
      "2.9662537459806524\n",
      "-0.8989080035209112\n",
      "-1.6019847409983174\n",
      "-4.930825015571724\n",
      "3.037606667458744\n",
      "0.5890746536486415\n",
      "3.5560973590103817\n",
      "-2.295593720104293\n",
      "-2.249176688612957\n",
      "4.3093836685976\n",
      "-2.258623863482876\n",
      "-0.022211268259153767\n",
      "-0.27789911881383933\n",
      "0.7578160247265001\n",
      "0.07782682268356561\n",
      "0.82971348340509\n",
      "-0.5047131678393835\n",
      "-2.2166497116254074\n",
      "-3.3392954052239547\n",
      "0.8923451106890612\n",
      "0.9959064425726456\n",
      "1.0344809618493387\n",
      "-2.3003862888936557\n",
      "-2.8083590821961253\n",
      "2.3946657970423026\n",
      "-2.2870687058979975\n",
      "0.9950433779887697\n",
      "-1.178990962537511\n",
      "1.4157409205733744\n",
      "0.15081564227510047\n",
      "-1.296721158973505\n",
      "-4.270921474400854\n",
      "3.617767872483256\n",
      "1.2179591328085182\n",
      "1.6808069070722917\n",
      "1.7075916833630895\n",
      "-2.510981606816536\n",
      "4.10114411200425\n",
      "-1.9721608939161774\n",
      "-0.0421509332953748\n",
      "1.1573319794735344\n",
      "-1.0463771104638075\n",
      "-2.0979816076821733\n",
      "2.0955434262720005\n",
      "1.5915153458532194\n",
      "-4.238410674719288\n",
      "-0.649892437546162\n",
      "-1.9775692311530153\n",
      "1.0528595085972987\n",
      "-0.10229774974706046\n",
      "-0.16957197969187748\n",
      "-3.296242286718516\n",
      "0.24024984132427027\n",
      "-0.436234732066666\n",
      "4.328106219156493\n",
      "-0.9019436503826237\n",
      "3.0870134063152777\n",
      "1.9521325122003628\n",
      "1.6904391900350235\n",
      "0.9017424773842291\n",
      "1.3399815604939878\n",
      "1.5659124379112148\n",
      "-2.9765874443765243\n",
      "1.0734808662642543\n",
      "1.1067979743160434\n",
      "4.101943249425593\n",
      "1.3596976425522862\n",
      "-2.7256573447060255\n",
      "2.5761429121536628\n",
      "-6.573548788028548\n",
      "-0.7235402551733079\n",
      "-2.6944455758929906\n",
      "2.5384575162772\n",
      "-0.6467741017879525\n",
      "0.23890080478509726\n",
      "0.9492416587198258\n",
      "1.3012221863666462\n",
      "-1.236922454999709\n",
      "-0.5816043998087704\n",
      "2.536018011682807\n",
      "0.5903852808513956\n",
      "1.0192064882685425\n",
      "2.211568147152101\n",
      "-0.190895789538155\n",
      "-1.9889154430387164\n"
     ]
    }
   ],
   "source": [
    "Y_pred = []\n",
    "for i in X_test:\n",
    "    Y_pred.append(sum(m*i))\n",
    "    \n",
    "for i in Y_pred:\n",
    "    print(i)\n",
    "    \n",
    "Y_pred = np.array(Y_pred)"
   ]
  },
  {
   "cell_type": "code",
   "execution_count": 111,
   "metadata": {},
   "outputs": [],
   "source": [
    "np.savetxt(X = Y_pred, fname = \"Predicted.csv\", delimiter = \",\", fmt = \"%.5f\")"
   ]
  },
  {
   "cell_type": "code",
   "execution_count": null,
   "metadata": {},
   "outputs": [],
   "source": []
  }
 ],
 "metadata": {
  "kernelspec": {
   "display_name": "Python 3",
   "language": "python",
   "name": "python3"
  },
  "language_info": {
   "codemirror_mode": {
    "name": "ipython",
    "version": 3
   },
   "file_extension": ".py",
   "mimetype": "text/x-python",
   "name": "python",
   "nbconvert_exporter": "python",
   "pygments_lexer": "ipython3",
   "version": "3.8.3"
  }
 },
 "nbformat": 4,
 "nbformat_minor": 4
}
